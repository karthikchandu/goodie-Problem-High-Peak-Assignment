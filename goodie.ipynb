{
 "cells": [
  {
   "cell_type": "code",
   "execution_count": 2,
   "metadata": {},
   "outputs": [
    {
     "name": "stdout",
     "output_type": "stream",
     "text": [
      "[999, 2195, 2799, 4999, 7980, 9800, 9999, 11101, 22349, 229900]\n",
      "3121 [7980, 9800, 9999, 11101]\n"
     ]
    }
   ],
   "source": [
    "from itertools import permutations\n",
    "\n",
    "file = open('input.txt')\n",
    "\n",
    "items = {}\n",
    "diff = 999999999\n",
    "distr = []\n",
    "\n",
    "for line in file:\n",
    "    # Reading the data like emp number, goodies and putting everything in mutable structures.\n",
    "    if 'employees' in line:\n",
    "        n = line.split(':')[1]\n",
    "        n = int(n)\n",
    "        \n",
    "    elif 'Prices' in line:\n",
    "        pass\n",
    "    \n",
    "    else:\n",
    "        item = line.split(':')\n",
    "        if item == ['\\n']:\n",
    "            pass\n",
    "        else:\n",
    "            items[int(item[1].rstrip())] = item[0]\n",
    "\n",
    "# Starting the permutation\n",
    "item_prices = list(items.keys())\n",
    "item_prices.sort()\n",
    "print(item_prices)\n",
    "perm = permutations(item_prices, n)\n",
    "for single in perm:\n",
    "    single = list(single)\n",
    "    single.sort()\n",
    "    new_diff = max(single) - min(single)\n",
    "    if new_diff < diff:\n",
    "        diff = new_diff\n",
    "        distr = single\n",
    "\n",
    "print(diff, distr)\n",
    "#writing output to file\n",
    "op = open(\"output.txt\", \"w\")\n",
    "op.write(\"The goodies selected for distribution are:\\n\")\n",
    "\n",
    "for item in distr:\n",
    "    op.write(items[item] + ': ' + str(item) + '\\n')\n",
    "\n",
    "op.write(f'\\nAnd the difference between the chosen goodie with highest price and the lowest price is {diff}')\n",
    "\n",
    "op.close()\n",
    "file.close()"
   ]
  },
  {
   "cell_type": "code",
   "execution_count": 1,
   "metadata": {},
   "outputs": [],
   "source": [
    "# Output is written into the file output.txt and input taken from input.txt"
   ]
  },
  {
   "cell_type": "code",
   "execution_count": null,
   "metadata": {},
   "outputs": [],
   "source": []
  }
 ],
 "metadata": {
  "kernelspec": {
   "display_name": "Python 3",
   "language": "python",
   "name": "python3"
  },
  "language_info": {
   "codemirror_mode": {
    "name": "ipython",
    "version": 3
   },
   "file_extension": ".py",
   "mimetype": "text/x-python",
   "name": "python",
   "nbconvert_exporter": "python",
   "pygments_lexer": "ipython3",
   "version": "3.7.4"
  }
 },
 "nbformat": 4,
 "nbformat_minor": 4
}
